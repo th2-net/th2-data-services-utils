{
 "cells": [
  {
   "cell_type": "markdown",
   "id": "3d6df6dc",
   "metadata": {},
   "source": [
    "# Notebook Recons \n",
    "It is a notebook which shows examples with recons:\n",
    "- how you can aggregate recon events and build a table like 'Recon Folder -> Recon Rule -> Recon Status -> Number recon events'\n",
    "- how you can aggregate recon events by intervals."
   ]
  },
  {
   "cell_type": "code",
   "execution_count": 1,
   "id": "00ab8ba6",
   "metadata": {},
   "outputs": [
    {
     "data": {
      "text/html": [
       "<style>.container { width:100% !important; }</style>"
      ],
      "text/plain": [
       "<IPython.core.display.HTML object>"
      ]
     },
     "metadata": {},
     "output_type": "display_data"
    }
   ],
   "source": [
    "from pprint import pprint\n",
    "import pandas as pd\n",
    "from IPython.core.display import display, HTML\n",
    "from datetime import datetime, timedelta\n",
    "from th2_data_services.data_source import DataSource\n",
    "from th2_data_services.data import Data\n",
    "from th2_data_services.events_tree import EventsTree\n",
    "import th2_data_services_utils.utils as Utils\n",
    "from pandas import DataFrame\n",
    "\n",
    "# This settings for increase display jupyter notebook and dataframe table.\n",
    "display(HTML(\"<style>.container { width:100% !important; }</style>\"))\n",
    "pd.options.display.max_rows = 1500\n",
    "pd.set_option('display.expand_frame_repr', False)\n",
    "pd.set_option('display.max_colwidth', 1000)"
   ]
  },
  {
   "cell_type": "markdown",
   "id": "b881c5f8",
   "metadata": {},
   "source": [
    "![alt text](super_type.png \"123\")"
   ]
  },
  {
   "cell_type": "code",
   "execution_count": 2,
   "id": "3debd079",
   "metadata": {},
   "outputs": [],
   "source": [
    "# For understand which event type on based name we get from stream.\n",
    "def get_super_type(record, tree):\n",
    "    name = record.get(\"eventName\")\n",
    "    parent_id = record.get(\"parentEventId\")\n",
    "    super_type = record.get(\"eventType\")\n",
    "    if super_type == \"\":\n",
    "        if \"Recon\" in name:\n",
    "            super_type = \"Recon Folder\"\n",
    "        else:\n",
    "            if not parent_id:\n",
    "                super_type = \"Test Run\"\n",
    "            else:\n",
    "                parent_event = tree.get(parent_id)\n",
    "                if parent_event:\n",
    "                    parent_super_type = get_super_type(parent_event, tree)\n",
    "                    if parent_super_type == \"Test Run\":\n",
    "                        super_type = \"Test Case\"\n",
    "                    elif parent_super_type == \"Recon Folder\":\n",
    "                        super_type = \"Recon Rule\"\n",
    "                    elif parent_super_type == \"Recon Rule\":\n",
    "                        super_type = \"Recon Status\"\n",
    "                    elif parent_super_type == \"Recon Status\":\n",
    "                        super_type = \"Recon Event\"\n",
    "\n",
    "    return super_type\n",
    "\n",
    "# Base extract (transform function)\n",
    "# record is required arguments.\n",
    "def extract_basic(record):\n",
    "    new_object = {}\n",
    "    start_time = datetime.fromtimestamp(record.get(\"startTimestamp\", {}).get(\"epochSecond\", 0))\n",
    "    start_time += timedelta(microseconds=record.get(\"startTimestamp\", {}).get(\"nano\", 0))\n",
    "    end_time = datetime.fromtimestamp(record.get(\"endTimestamp\", {}).get(\"epochSecond\", 0))\n",
    "    end_time += timedelta(microseconds=record.get(\"endTimestamp\", {}).get(\"nano\", 0))\n",
    "    new_object.update(\n",
    "        {\n",
    "            \"super_type\": get_super_type(record, tree),\n",
    "            \"start_time\": start_time,\n",
    "            \"end_time\": end_time,\n",
    "            \"status\": \"SUCCESSFUL\" if record.get(\"successful\") else \"FAILED\",\n",
    "            \"eventName\": record.get(\"eventName\"),\n",
    "            \"parentEventId\": record.get(\"parentEventId\"),\n",
    "            \"body\": record.get(\"body\"),\n",
    "            \"messages_id\": record.get(\"attachedMessageIds\")\n",
    "        }\n",
    "    )\n",
    "    return new_object"
   ]
  },
  {
   "cell_type": "markdown",
   "id": "98ccc52a",
   "metadata": {},
   "source": [
    "## Create Data Source object\n",
    "The DataSource object lets you retrieve data in the easiest way.\n",
    "\n",
    "NOTE: You can change the URL via eponymous property of this object."
   ]
  },
  {
   "cell_type": "code",
   "execution_count": 3,
   "id": "ee9d4af1",
   "metadata": {},
   "outputs": [],
   "source": [
    "START_TIME = datetime(year=2021, month=6, day=20, hour=13, minute=44, second=41, microsecond=692724)\n",
    "END_TIME = datetime(year=2021, month=6, day=20, hour=13, minute=45, second=49, microsecond=28579)\n",
    "\n",
    "DEMO_HOST = \"10.64.66.66\"  # th2-kube-demo  Host port where rpt-data-provider is located.\n",
    "DEMO_PORT = \"30999\"  # Node port of rpt-data-provider.\n",
    "data_source = DataSource(F\"http://{DEMO_HOST}:{DEMO_PORT}\")\n",
    "\n",
    "events: Data = data_source.get_events_from_data_provider(\n",
    "    startTimestamp=START_TIME,\n",
    "    endTimestamp=END_TIME,\n",
    "    metadataOnly=False,\n",
    "    attachedMessages=True,\n",
    ")"
   ]
  },
  {
   "cell_type": "markdown",
   "id": "8cf6c751",
   "metadata": {},
   "source": [
    "## This example demonstrates events retrieving\n"
   ]
  },
  {
   "cell_type": "code",
   "execution_count": 4,
   "id": "e26b1ba1",
   "metadata": {
    "scrolled": true
   },
   "outputs": [],
   "source": [
    "# We build events tree for further assistance.\n",
    "events_tree = EventsTree(events)\n",
    "tree = events_tree.events\n",
    "\n",
    "# Here we get events which doesn't exist in data source interval.\n",
    "events_tree.recover_unknown_events(data_source)"
   ]
  },
  {
   "cell_type": "markdown",
   "id": "17acb92d",
   "metadata": {},
   "source": [
    "## [1] Summarize table\n",
    "The table summarizes the work of the check2-recon th2 component.  \n",
    "Shows the names of the rules, statuses, and how many there were."
   ]
  },
  {
   "cell_type": "code",
   "execution_count": 5,
   "id": "5846458a",
   "metadata": {},
   "outputs": [],
   "source": [
    "def transform_output(record):\n",
    "    recon_status = tree.get(record.get(\"parentEventId\"))\n",
    "    recon_rule = tree.get(recon_status.get(\"parentEventId\"))\n",
    "    recon_folder = tree.get(recon_rule.get(\"parentEventId\"))\n",
    "    new_obj = {\n",
    "        \"Recon Folder\": recon_folder.get(\"eventName\"),\n",
    "        \"Recon Rule\" : recon_rule.get(\"eventName\"),\n",
    "        \"Recon Status\": recon_status.get(\"eventName\"),\n",
    "        \"Number of Events\": 1,\n",
    "        \"Start Time\": record.get(\"start_time\"),\n",
    "        \"End Time\": record.get(\"end_time\")\n",
    "    }\n",
    "    return new_obj\n",
    "\n",
    "data: Data = events\\\n",
    "            .map(extract_basic)\\\n",
    "            .filter(lambda record: record.get(\"super_type\") == \"Recon Event\")\\\n",
    "            .map(transform_output)"
   ]
  },
  {
   "cell_type": "code",
   "execution_count": 6,
   "id": "6a3c8ac8",
   "metadata": {
    "scrolled": true
   },
   "outputs": [
    {
     "data": {
      "text/html": [
       "<div>\n",
       "<style scoped>\n",
       "    .dataframe tbody tr th:only-of-type {\n",
       "        vertical-align: middle;\n",
       "    }\n",
       "\n",
       "    .dataframe tbody tr th {\n",
       "        vertical-align: top;\n",
       "    }\n",
       "\n",
       "    .dataframe thead th {\n",
       "        text-align: right;\n",
       "    }\n",
       "</style>\n",
       "<table border=\"1\" class=\"dataframe\">\n",
       "  <thead>\n",
       "    <tr style=\"text-align: right;\">\n",
       "      <th></th>\n",
       "      <th></th>\n",
       "      <th></th>\n",
       "      <th>Number of Events</th>\n",
       "      <th>Start Time</th>\n",
       "      <th>End Time</th>\n",
       "      <th>duration</th>\n",
       "    </tr>\n",
       "    <tr>\n",
       "      <th>Recon Folder</th>\n",
       "      <th>Recon Rule</th>\n",
       "      <th>Recon Status</th>\n",
       "      <th></th>\n",
       "      <th></th>\n",
       "      <th></th>\n",
       "      <th></th>\n",
       "    </tr>\n",
       "  </thead>\n",
       "  <tbody>\n",
       "    <tr>\n",
       "      <th rowspan=\"5\" valign=\"top\">Recon: Demo_Recon</th>\n",
       "      <th rowspan=\"2\" valign=\"top\">Rule: ['demo-conn1', 'demo-conn2'] vs ['demo-log']</th>\n",
       "      <th>No match</th>\n",
       "      <td>16.0</td>\n",
       "      <td>2021-06-20 13:55:27.696</td>\n",
       "      <td>2021-06-20 13:59:48.824</td>\n",
       "      <td>0 days 00:04:21.128000</td>\n",
       "    </tr>\n",
       "    <tr>\n",
       "      <th>total</th>\n",
       "      <td>16.0</td>\n",
       "      <td>2021-06-20 13:55:27.696</td>\n",
       "      <td>2021-06-20 13:59:48.824</td>\n",
       "      <td>0 days 00:04:21.128000</td>\n",
       "    </tr>\n",
       "    <tr>\n",
       "      <th rowspan=\"3\" valign=\"top\">Rule: ['demo-conn1'] vs ['demo-conn2']</th>\n",
       "      <th>Matched failed</th>\n",
       "      <td>1.0</td>\n",
       "      <td>2021-06-20 13:55:24.826</td>\n",
       "      <td>2021-06-20 13:55:24.826</td>\n",
       "      <td>0 days 00:00:00</td>\n",
       "    </tr>\n",
       "    <tr>\n",
       "      <th>Matched passed</th>\n",
       "      <td>9.0</td>\n",
       "      <td>2021-06-20 13:54:49.498</td>\n",
       "      <td>2021-06-20 14:01:56.822</td>\n",
       "      <td>0 days 00:07:07.324000</td>\n",
       "    </tr>\n",
       "    <tr>\n",
       "      <th>total</th>\n",
       "      <td>10.0</td>\n",
       "      <td>2021-06-20 13:54:49.498</td>\n",
       "      <td>2021-06-20 14:01:56.822</td>\n",
       "      <td>0 days 00:07:07.324000</td>\n",
       "    </tr>\n",
       "  </tbody>\n",
       "</table>\n",
       "</div>"
      ],
      "text/plain": [
       "                                                                                     Number of Events              Start Time                End Time               duration\n",
       "Recon Folder      Recon Rule                                         Recon Status                                                                                           \n",
       "Recon: Demo_Recon Rule: ['demo-conn1', 'demo-conn2'] vs ['demo-log'] No match                    16.0 2021-06-20 13:55:27.696 2021-06-20 13:59:48.824 0 days 00:04:21.128000\n",
       "                                                                     total                       16.0 2021-06-20 13:55:27.696 2021-06-20 13:59:48.824 0 days 00:04:21.128000\n",
       "                  Rule: ['demo-conn1'] vs ['demo-conn2']             Matched failed               1.0 2021-06-20 13:55:24.826 2021-06-20 13:55:24.826        0 days 00:00:00\n",
       "                                                                     Matched passed               9.0 2021-06-20 13:54:49.498 2021-06-20 14:01:56.822 0 days 00:07:07.324000\n",
       "                                                                     total                       10.0 2021-06-20 13:54:49.498 2021-06-20 14:01:56.822 0 days 00:07:07.324000"
      ]
     },
     "execution_count": 6,
     "metadata": {},
     "output_type": "execute_result"
    }
   ],
   "source": [
    "def transform_output(record):\n",
    "    recon_status = tree.get(record.get(\"parentEventId\"))\n",
    "    recon_rule = tree.get(recon_status.get(\"parentEventId\"))\n",
    "    recon_folder = tree.get(recon_rule.get(\"parentEventId\"))\n",
    "    new_obj = {\n",
    "        \"Recon Folder\": recon_folder.get(\"eventName\"),\n",
    "        \"Recon Rule\" : recon_rule.get(\"eventName\"),\n",
    "        \"Recon Status\": recon_status.get(\"eventName\"),\n",
    "        \"Number of Events\": 1,\n",
    "        \"Start Time\": record.get(\"start_time\"),\n",
    "        \"End Time\": record.get(\"end_time\")\n",
    "    }\n",
    "    return new_obj\n",
    "\n",
    "data: Data = events\\\n",
    "            .map(extract_basic)\\\n",
    "            .filter(lambda record: record.get(\"super_type\") == \"Recon Event\")\\\n",
    "            .map(transform_output)\n",
    "    \n",
    "# Functions from pandas.\n",
    "df = DataFrame(data).groupby(['Recon Folder', \"Recon Rule\", 'Recon Status']).agg(\n",
    "    {\"Number of Events\": \"sum\", \"Start Time\": \"min\", \"End Time\": \"max\"})\n",
    "\n",
    "df = Utils.append_total_rows(df, {\"Number of Events\": \"sum\", \"Start Time\": \"min\", \"End Time\": \"max\"})\n",
    "df[\"duration\"] = df[\"End Time\"] - df[\"Start Time\"]\n",
    "df"
   ]
  },
  {
   "cell_type": "markdown",
   "id": "0cab5cc0",
   "metadata": {},
   "source": [
    "## [2] Growth chart for each of the event statuses\n",
    "\n"
   ]
  },
  {
   "cell_type": "code",
   "execution_count": 10,
   "id": "294fbdee",
   "metadata": {
    "scrolled": false
   },
   "outputs": [
    {
     "data": {
      "application/vnd.plotly.v1+json": {
       "config": {
        "plotlyServerURL": "https://plot.ly"
       },
       "data": [
        {
         "mode": "lines",
         "name": "Recon: Demo_Recon -> Rule: ['demo-conn1', 'demo-conn2'] vs ['demo-log'] -> No match",
         "type": "scatter",
         "x": [
          "2021-06-20T13:54:40",
          "2021-06-20T13:55:20",
          "2021-06-20T13:55:40",
          "2021-06-20T13:55:50",
          "2021-06-20T13:56:10",
          "2021-06-20T13:57:10",
          "2021-06-20T13:58:40",
          "2021-06-20T13:58:50",
          "2021-06-20T13:59:00",
          "2021-06-20T13:59:10",
          "2021-06-20T13:59:20",
          "2021-06-20T13:59:30",
          "2021-06-20T13:59:40",
          "2021-06-20T14:00:50",
          "2021-06-20T14:01:00",
          "2021-06-20T14:01:20",
          "2021-06-20T14:01:30",
          "2021-06-20T14:01:50"
         ],
         "y": [
          null,
          1,
          1,
          1,
          2,
          null,
          1,
          2,
          1,
          1,
          1,
          3,
          2,
          null,
          null,
          null,
          null,
          null
         ]
        },
        {
         "mode": "lines",
         "name": "Recon: Demo_Recon -> Rule: ['demo-conn1'] vs ['demo-conn2'] -> Matched failed",
         "type": "scatter",
         "x": [
          "2021-06-20T13:54:40",
          "2021-06-20T13:55:20",
          "2021-06-20T13:55:40",
          "2021-06-20T13:55:50",
          "2021-06-20T13:56:10",
          "2021-06-20T13:57:10",
          "2021-06-20T13:58:40",
          "2021-06-20T13:58:50",
          "2021-06-20T13:59:00",
          "2021-06-20T13:59:10",
          "2021-06-20T13:59:20",
          "2021-06-20T13:59:30",
          "2021-06-20T13:59:40",
          "2021-06-20T14:00:50",
          "2021-06-20T14:01:00",
          "2021-06-20T14:01:20",
          "2021-06-20T14:01:30",
          "2021-06-20T14:01:50"
         ],
         "y": [
          null,
          1,
          null,
          null,
          null,
          null,
          null,
          null,
          null,
          null,
          null,
          null,
          null,
          null,
          null,
          null,
          null,
          null
         ]
        },
        {
         "mode": "lines",
         "name": "Recon: Demo_Recon -> Rule: ['demo-conn1'] vs ['demo-conn2'] -> Matched passed",
         "type": "scatter",
         "x": [
          "2021-06-20T13:54:40",
          "2021-06-20T13:55:20",
          "2021-06-20T13:55:40",
          "2021-06-20T13:55:50",
          "2021-06-20T13:56:10",
          "2021-06-20T13:57:10",
          "2021-06-20T13:58:40",
          "2021-06-20T13:58:50",
          "2021-06-20T13:59:00",
          "2021-06-20T13:59:10",
          "2021-06-20T13:59:20",
          "2021-06-20T13:59:30",
          "2021-06-20T13:59:40",
          "2021-06-20T14:00:50",
          "2021-06-20T14:01:00",
          "2021-06-20T14:01:20",
          "2021-06-20T14:01:30",
          "2021-06-20T14:01:50"
         ],
         "y": [
          1,
          1,
          null,
          null,
          null,
          1,
          null,
          null,
          null,
          null,
          null,
          null,
          null,
          1,
          1,
          2,
          1,
          1
         ]
        }
       ],
       "layout": {
        "template": {
         "data": {
          "bar": [
           {
            "error_x": {
             "color": "#2a3f5f"
            },
            "error_y": {
             "color": "#2a3f5f"
            },
            "marker": {
             "line": {
              "color": "#E5ECF6",
              "width": 0.5
             },
             "pattern": {
              "fillmode": "overlay",
              "size": 10,
              "solidity": 0.2
             }
            },
            "type": "bar"
           }
          ],
          "barpolar": [
           {
            "marker": {
             "line": {
              "color": "#E5ECF6",
              "width": 0.5
             },
             "pattern": {
              "fillmode": "overlay",
              "size": 10,
              "solidity": 0.2
             }
            },
            "type": "barpolar"
           }
          ],
          "carpet": [
           {
            "aaxis": {
             "endlinecolor": "#2a3f5f",
             "gridcolor": "white",
             "linecolor": "white",
             "minorgridcolor": "white",
             "startlinecolor": "#2a3f5f"
            },
            "baxis": {
             "endlinecolor": "#2a3f5f",
             "gridcolor": "white",
             "linecolor": "white",
             "minorgridcolor": "white",
             "startlinecolor": "#2a3f5f"
            },
            "type": "carpet"
           }
          ],
          "choropleth": [
           {
            "colorbar": {
             "outlinewidth": 0,
             "ticks": ""
            },
            "type": "choropleth"
           }
          ],
          "contour": [
           {
            "colorbar": {
             "outlinewidth": 0,
             "ticks": ""
            },
            "colorscale": [
             [
              0,
              "#0d0887"
             ],
             [
              0.1111111111111111,
              "#46039f"
             ],
             [
              0.2222222222222222,
              "#7201a8"
             ],
             [
              0.3333333333333333,
              "#9c179e"
             ],
             [
              0.4444444444444444,
              "#bd3786"
             ],
             [
              0.5555555555555556,
              "#d8576b"
             ],
             [
              0.6666666666666666,
              "#ed7953"
             ],
             [
              0.7777777777777778,
              "#fb9f3a"
             ],
             [
              0.8888888888888888,
              "#fdca26"
             ],
             [
              1,
              "#f0f921"
             ]
            ],
            "type": "contour"
           }
          ],
          "contourcarpet": [
           {
            "colorbar": {
             "outlinewidth": 0,
             "ticks": ""
            },
            "type": "contourcarpet"
           }
          ],
          "heatmap": [
           {
            "colorbar": {
             "outlinewidth": 0,
             "ticks": ""
            },
            "colorscale": [
             [
              0,
              "#0d0887"
             ],
             [
              0.1111111111111111,
              "#46039f"
             ],
             [
              0.2222222222222222,
              "#7201a8"
             ],
             [
              0.3333333333333333,
              "#9c179e"
             ],
             [
              0.4444444444444444,
              "#bd3786"
             ],
             [
              0.5555555555555556,
              "#d8576b"
             ],
             [
              0.6666666666666666,
              "#ed7953"
             ],
             [
              0.7777777777777778,
              "#fb9f3a"
             ],
             [
              0.8888888888888888,
              "#fdca26"
             ],
             [
              1,
              "#f0f921"
             ]
            ],
            "type": "heatmap"
           }
          ],
          "heatmapgl": [
           {
            "colorbar": {
             "outlinewidth": 0,
             "ticks": ""
            },
            "colorscale": [
             [
              0,
              "#0d0887"
             ],
             [
              0.1111111111111111,
              "#46039f"
             ],
             [
              0.2222222222222222,
              "#7201a8"
             ],
             [
              0.3333333333333333,
              "#9c179e"
             ],
             [
              0.4444444444444444,
              "#bd3786"
             ],
             [
              0.5555555555555556,
              "#d8576b"
             ],
             [
              0.6666666666666666,
              "#ed7953"
             ],
             [
              0.7777777777777778,
              "#fb9f3a"
             ],
             [
              0.8888888888888888,
              "#fdca26"
             ],
             [
              1,
              "#f0f921"
             ]
            ],
            "type": "heatmapgl"
           }
          ],
          "histogram": [
           {
            "marker": {
             "pattern": {
              "fillmode": "overlay",
              "size": 10,
              "solidity": 0.2
             }
            },
            "type": "histogram"
           }
          ],
          "histogram2d": [
           {
            "colorbar": {
             "outlinewidth": 0,
             "ticks": ""
            },
            "colorscale": [
             [
              0,
              "#0d0887"
             ],
             [
              0.1111111111111111,
              "#46039f"
             ],
             [
              0.2222222222222222,
              "#7201a8"
             ],
             [
              0.3333333333333333,
              "#9c179e"
             ],
             [
              0.4444444444444444,
              "#bd3786"
             ],
             [
              0.5555555555555556,
              "#d8576b"
             ],
             [
              0.6666666666666666,
              "#ed7953"
             ],
             [
              0.7777777777777778,
              "#fb9f3a"
             ],
             [
              0.8888888888888888,
              "#fdca26"
             ],
             [
              1,
              "#f0f921"
             ]
            ],
            "type": "histogram2d"
           }
          ],
          "histogram2dcontour": [
           {
            "colorbar": {
             "outlinewidth": 0,
             "ticks": ""
            },
            "colorscale": [
             [
              0,
              "#0d0887"
             ],
             [
              0.1111111111111111,
              "#46039f"
             ],
             [
              0.2222222222222222,
              "#7201a8"
             ],
             [
              0.3333333333333333,
              "#9c179e"
             ],
             [
              0.4444444444444444,
              "#bd3786"
             ],
             [
              0.5555555555555556,
              "#d8576b"
             ],
             [
              0.6666666666666666,
              "#ed7953"
             ],
             [
              0.7777777777777778,
              "#fb9f3a"
             ],
             [
              0.8888888888888888,
              "#fdca26"
             ],
             [
              1,
              "#f0f921"
             ]
            ],
            "type": "histogram2dcontour"
           }
          ],
          "mesh3d": [
           {
            "colorbar": {
             "outlinewidth": 0,
             "ticks": ""
            },
            "type": "mesh3d"
           }
          ],
          "parcoords": [
           {
            "line": {
             "colorbar": {
              "outlinewidth": 0,
              "ticks": ""
             }
            },
            "type": "parcoords"
           }
          ],
          "pie": [
           {
            "automargin": true,
            "type": "pie"
           }
          ],
          "scatter": [
           {
            "marker": {
             "colorbar": {
              "outlinewidth": 0,
              "ticks": ""
             }
            },
            "type": "scatter"
           }
          ],
          "scatter3d": [
           {
            "line": {
             "colorbar": {
              "outlinewidth": 0,
              "ticks": ""
             }
            },
            "marker": {
             "colorbar": {
              "outlinewidth": 0,
              "ticks": ""
             }
            },
            "type": "scatter3d"
           }
          ],
          "scattercarpet": [
           {
            "marker": {
             "colorbar": {
              "outlinewidth": 0,
              "ticks": ""
             }
            },
            "type": "scattercarpet"
           }
          ],
          "scattergeo": [
           {
            "marker": {
             "colorbar": {
              "outlinewidth": 0,
              "ticks": ""
             }
            },
            "type": "scattergeo"
           }
          ],
          "scattergl": [
           {
            "marker": {
             "colorbar": {
              "outlinewidth": 0,
              "ticks": ""
             }
            },
            "type": "scattergl"
           }
          ],
          "scattermapbox": [
           {
            "marker": {
             "colorbar": {
              "outlinewidth": 0,
              "ticks": ""
             }
            },
            "type": "scattermapbox"
           }
          ],
          "scatterpolar": [
           {
            "marker": {
             "colorbar": {
              "outlinewidth": 0,
              "ticks": ""
             }
            },
            "type": "scatterpolar"
           }
          ],
          "scatterpolargl": [
           {
            "marker": {
             "colorbar": {
              "outlinewidth": 0,
              "ticks": ""
             }
            },
            "type": "scatterpolargl"
           }
          ],
          "scatterternary": [
           {
            "marker": {
             "colorbar": {
              "outlinewidth": 0,
              "ticks": ""
             }
            },
            "type": "scatterternary"
           }
          ],
          "surface": [
           {
            "colorbar": {
             "outlinewidth": 0,
             "ticks": ""
            },
            "colorscale": [
             [
              0,
              "#0d0887"
             ],
             [
              0.1111111111111111,
              "#46039f"
             ],
             [
              0.2222222222222222,
              "#7201a8"
             ],
             [
              0.3333333333333333,
              "#9c179e"
             ],
             [
              0.4444444444444444,
              "#bd3786"
             ],
             [
              0.5555555555555556,
              "#d8576b"
             ],
             [
              0.6666666666666666,
              "#ed7953"
             ],
             [
              0.7777777777777778,
              "#fb9f3a"
             ],
             [
              0.8888888888888888,
              "#fdca26"
             ],
             [
              1,
              "#f0f921"
             ]
            ],
            "type": "surface"
           }
          ],
          "table": [
           {
            "cells": {
             "fill": {
              "color": "#EBF0F8"
             },
             "line": {
              "color": "white"
             }
            },
            "header": {
             "fill": {
              "color": "#C8D4E3"
             },
             "line": {
              "color": "white"
             }
            },
            "type": "table"
           }
          ]
         },
         "layout": {
          "annotationdefaults": {
           "arrowcolor": "#2a3f5f",
           "arrowhead": 0,
           "arrowwidth": 1
          },
          "autotypenumbers": "strict",
          "coloraxis": {
           "colorbar": {
            "outlinewidth": 0,
            "ticks": ""
           }
          },
          "colorscale": {
           "diverging": [
            [
             0,
             "#8e0152"
            ],
            [
             0.1,
             "#c51b7d"
            ],
            [
             0.2,
             "#de77ae"
            ],
            [
             0.3,
             "#f1b6da"
            ],
            [
             0.4,
             "#fde0ef"
            ],
            [
             0.5,
             "#f7f7f7"
            ],
            [
             0.6,
             "#e6f5d0"
            ],
            [
             0.7,
             "#b8e186"
            ],
            [
             0.8,
             "#7fbc41"
            ],
            [
             0.9,
             "#4d9221"
            ],
            [
             1,
             "#276419"
            ]
           ],
           "sequential": [
            [
             0,
             "#0d0887"
            ],
            [
             0.1111111111111111,
             "#46039f"
            ],
            [
             0.2222222222222222,
             "#7201a8"
            ],
            [
             0.3333333333333333,
             "#9c179e"
            ],
            [
             0.4444444444444444,
             "#bd3786"
            ],
            [
             0.5555555555555556,
             "#d8576b"
            ],
            [
             0.6666666666666666,
             "#ed7953"
            ],
            [
             0.7777777777777778,
             "#fb9f3a"
            ],
            [
             0.8888888888888888,
             "#fdca26"
            ],
            [
             1,
             "#f0f921"
            ]
           ],
           "sequentialminus": [
            [
             0,
             "#0d0887"
            ],
            [
             0.1111111111111111,
             "#46039f"
            ],
            [
             0.2222222222222222,
             "#7201a8"
            ],
            [
             0.3333333333333333,
             "#9c179e"
            ],
            [
             0.4444444444444444,
             "#bd3786"
            ],
            [
             0.5555555555555556,
             "#d8576b"
            ],
            [
             0.6666666666666666,
             "#ed7953"
            ],
            [
             0.7777777777777778,
             "#fb9f3a"
            ],
            [
             0.8888888888888888,
             "#fdca26"
            ],
            [
             1,
             "#f0f921"
            ]
           ]
          },
          "colorway": [
           "#636efa",
           "#EF553B",
           "#00cc96",
           "#ab63fa",
           "#FFA15A",
           "#19d3f3",
           "#FF6692",
           "#B6E880",
           "#FF97FF",
           "#FECB52"
          ],
          "font": {
           "color": "#2a3f5f"
          },
          "geo": {
           "bgcolor": "white",
           "lakecolor": "white",
           "landcolor": "#E5ECF6",
           "showlakes": true,
           "showland": true,
           "subunitcolor": "white"
          },
          "hoverlabel": {
           "align": "left"
          },
          "hovermode": "closest",
          "mapbox": {
           "style": "light"
          },
          "paper_bgcolor": "white",
          "plot_bgcolor": "#E5ECF6",
          "polar": {
           "angularaxis": {
            "gridcolor": "white",
            "linecolor": "white",
            "ticks": ""
           },
           "bgcolor": "#E5ECF6",
           "radialaxis": {
            "gridcolor": "white",
            "linecolor": "white",
            "ticks": ""
           }
          },
          "scene": {
           "xaxis": {
            "backgroundcolor": "#E5ECF6",
            "gridcolor": "white",
            "gridwidth": 2,
            "linecolor": "white",
            "showbackground": true,
            "ticks": "",
            "zerolinecolor": "white"
           },
           "yaxis": {
            "backgroundcolor": "#E5ECF6",
            "gridcolor": "white",
            "gridwidth": 2,
            "linecolor": "white",
            "showbackground": true,
            "ticks": "",
            "zerolinecolor": "white"
           },
           "zaxis": {
            "backgroundcolor": "#E5ECF6",
            "gridcolor": "white",
            "gridwidth": 2,
            "linecolor": "white",
            "showbackground": true,
            "ticks": "",
            "zerolinecolor": "white"
           }
          },
          "shapedefaults": {
           "line": {
            "color": "#2a3f5f"
           }
          },
          "ternary": {
           "aaxis": {
            "gridcolor": "white",
            "linecolor": "white",
            "ticks": ""
           },
           "baxis": {
            "gridcolor": "white",
            "linecolor": "white",
            "ticks": ""
           },
           "bgcolor": "#E5ECF6",
           "caxis": {
            "gridcolor": "white",
            "linecolor": "white",
            "ticks": ""
           }
          },
          "title": {
           "x": 0.05
          },
          "xaxis": {
           "automargin": true,
           "gridcolor": "white",
           "linecolor": "white",
           "ticks": "",
           "title": {
            "standoff": 15
           },
           "zerolinecolor": "white",
           "zerolinewidth": 2
          },
          "yaxis": {
           "automargin": true,
           "gridcolor": "white",
           "linecolor": "white",
           "ticks": "",
           "title": {
            "standoff": 15
           },
           "zerolinecolor": "white",
           "zerolinewidth": 2
          }
         }
        }
       }
      },
      "text/html": [
       "<div>                            <div id=\"6007f034-783e-4362-a3f6-bcc8df1140ee\" class=\"plotly-graph-div\" style=\"height:525px; width:100%;\"></div>            <script type=\"text/javascript\">                require([\"plotly\"], function(Plotly) {                    window.PLOTLYENV=window.PLOTLYENV || {};                                    if (document.getElementById(\"6007f034-783e-4362-a3f6-bcc8df1140ee\")) {                    Plotly.newPlot(                        \"6007f034-783e-4362-a3f6-bcc8df1140ee\",                        [{\"mode\":\"lines\",\"name\":\"Recon: Demo_Recon -> Rule: ['demo-conn1', 'demo-conn2'] vs ['demo-log'] -> No match\",\"type\":\"scatter\",\"x\":[\"2021-06-20T13:54:40\",\"2021-06-20T13:55:20\",\"2021-06-20T13:55:40\",\"2021-06-20T13:55:50\",\"2021-06-20T13:56:10\",\"2021-06-20T13:57:10\",\"2021-06-20T13:58:40\",\"2021-06-20T13:58:50\",\"2021-06-20T13:59:00\",\"2021-06-20T13:59:10\",\"2021-06-20T13:59:20\",\"2021-06-20T13:59:30\",\"2021-06-20T13:59:40\",\"2021-06-20T14:00:50\",\"2021-06-20T14:01:00\",\"2021-06-20T14:01:20\",\"2021-06-20T14:01:30\",\"2021-06-20T14:01:50\"],\"y\":[null,1.0,1.0,1.0,2.0,null,1.0,2.0,1.0,1.0,1.0,3.0,2.0,null,null,null,null,null]},{\"mode\":\"lines\",\"name\":\"Recon: Demo_Recon -> Rule: ['demo-conn1'] vs ['demo-conn2'] -> Matched failed\",\"type\":\"scatter\",\"x\":[\"2021-06-20T13:54:40\",\"2021-06-20T13:55:20\",\"2021-06-20T13:55:40\",\"2021-06-20T13:55:50\",\"2021-06-20T13:56:10\",\"2021-06-20T13:57:10\",\"2021-06-20T13:58:40\",\"2021-06-20T13:58:50\",\"2021-06-20T13:59:00\",\"2021-06-20T13:59:10\",\"2021-06-20T13:59:20\",\"2021-06-20T13:59:30\",\"2021-06-20T13:59:40\",\"2021-06-20T14:00:50\",\"2021-06-20T14:01:00\",\"2021-06-20T14:01:20\",\"2021-06-20T14:01:30\",\"2021-06-20T14:01:50\"],\"y\":[null,1.0,null,null,null,null,null,null,null,null,null,null,null,null,null,null,null,null]},{\"mode\":\"lines\",\"name\":\"Recon: Demo_Recon -> Rule: ['demo-conn1'] vs ['demo-conn2'] -> Matched passed\",\"type\":\"scatter\",\"x\":[\"2021-06-20T13:54:40\",\"2021-06-20T13:55:20\",\"2021-06-20T13:55:40\",\"2021-06-20T13:55:50\",\"2021-06-20T13:56:10\",\"2021-06-20T13:57:10\",\"2021-06-20T13:58:40\",\"2021-06-20T13:58:50\",\"2021-06-20T13:59:00\",\"2021-06-20T13:59:10\",\"2021-06-20T13:59:20\",\"2021-06-20T13:59:30\",\"2021-06-20T13:59:40\",\"2021-06-20T14:00:50\",\"2021-06-20T14:01:00\",\"2021-06-20T14:01:20\",\"2021-06-20T14:01:30\",\"2021-06-20T14:01:50\"],\"y\":[1.0,1.0,null,null,null,1.0,null,null,null,null,null,null,null,1.0,1.0,2.0,1.0,1.0]}],                        {\"template\":{\"data\":{\"bar\":[{\"error_x\":{\"color\":\"#2a3f5f\"},\"error_y\":{\"color\":\"#2a3f5f\"},\"marker\":{\"line\":{\"color\":\"#E5ECF6\",\"width\":0.5},\"pattern\":{\"fillmode\":\"overlay\",\"size\":10,\"solidity\":0.2}},\"type\":\"bar\"}],\"barpolar\":[{\"marker\":{\"line\":{\"color\":\"#E5ECF6\",\"width\":0.5},\"pattern\":{\"fillmode\":\"overlay\",\"size\":10,\"solidity\":0.2}},\"type\":\"barpolar\"}],\"carpet\":[{\"aaxis\":{\"endlinecolor\":\"#2a3f5f\",\"gridcolor\":\"white\",\"linecolor\":\"white\",\"minorgridcolor\":\"white\",\"startlinecolor\":\"#2a3f5f\"},\"baxis\":{\"endlinecolor\":\"#2a3f5f\",\"gridcolor\":\"white\",\"linecolor\":\"white\",\"minorgridcolor\":\"white\",\"startlinecolor\":\"#2a3f5f\"},\"type\":\"carpet\"}],\"choropleth\":[{\"colorbar\":{\"outlinewidth\":0,\"ticks\":\"\"},\"type\":\"choropleth\"}],\"contour\":[{\"colorbar\":{\"outlinewidth\":0,\"ticks\":\"\"},\"colorscale\":[[0.0,\"#0d0887\"],[0.1111111111111111,\"#46039f\"],[0.2222222222222222,\"#7201a8\"],[0.3333333333333333,\"#9c179e\"],[0.4444444444444444,\"#bd3786\"],[0.5555555555555556,\"#d8576b\"],[0.6666666666666666,\"#ed7953\"],[0.7777777777777778,\"#fb9f3a\"],[0.8888888888888888,\"#fdca26\"],[1.0,\"#f0f921\"]],\"type\":\"contour\"}],\"contourcarpet\":[{\"colorbar\":{\"outlinewidth\":0,\"ticks\":\"\"},\"type\":\"contourcarpet\"}],\"heatmap\":[{\"colorbar\":{\"outlinewidth\":0,\"ticks\":\"\"},\"colorscale\":[[0.0,\"#0d0887\"],[0.1111111111111111,\"#46039f\"],[0.2222222222222222,\"#7201a8\"],[0.3333333333333333,\"#9c179e\"],[0.4444444444444444,\"#bd3786\"],[0.5555555555555556,\"#d8576b\"],[0.6666666666666666,\"#ed7953\"],[0.7777777777777778,\"#fb9f3a\"],[0.8888888888888888,\"#fdca26\"],[1.0,\"#f0f921\"]],\"type\":\"heatmap\"}],\"heatmapgl\":[{\"colorbar\":{\"outlinewidth\":0,\"ticks\":\"\"},\"colorscale\":[[0.0,\"#0d0887\"],[0.1111111111111111,\"#46039f\"],[0.2222222222222222,\"#7201a8\"],[0.3333333333333333,\"#9c179e\"],[0.4444444444444444,\"#bd3786\"],[0.5555555555555556,\"#d8576b\"],[0.6666666666666666,\"#ed7953\"],[0.7777777777777778,\"#fb9f3a\"],[0.8888888888888888,\"#fdca26\"],[1.0,\"#f0f921\"]],\"type\":\"heatmapgl\"}],\"histogram\":[{\"marker\":{\"pattern\":{\"fillmode\":\"overlay\",\"size\":10,\"solidity\":0.2}},\"type\":\"histogram\"}],\"histogram2d\":[{\"colorbar\":{\"outlinewidth\":0,\"ticks\":\"\"},\"colorscale\":[[0.0,\"#0d0887\"],[0.1111111111111111,\"#46039f\"],[0.2222222222222222,\"#7201a8\"],[0.3333333333333333,\"#9c179e\"],[0.4444444444444444,\"#bd3786\"],[0.5555555555555556,\"#d8576b\"],[0.6666666666666666,\"#ed7953\"],[0.7777777777777778,\"#fb9f3a\"],[0.8888888888888888,\"#fdca26\"],[1.0,\"#f0f921\"]],\"type\":\"histogram2d\"}],\"histogram2dcontour\":[{\"colorbar\":{\"outlinewidth\":0,\"ticks\":\"\"},\"colorscale\":[[0.0,\"#0d0887\"],[0.1111111111111111,\"#46039f\"],[0.2222222222222222,\"#7201a8\"],[0.3333333333333333,\"#9c179e\"],[0.4444444444444444,\"#bd3786\"],[0.5555555555555556,\"#d8576b\"],[0.6666666666666666,\"#ed7953\"],[0.7777777777777778,\"#fb9f3a\"],[0.8888888888888888,\"#fdca26\"],[1.0,\"#f0f921\"]],\"type\":\"histogram2dcontour\"}],\"mesh3d\":[{\"colorbar\":{\"outlinewidth\":0,\"ticks\":\"\"},\"type\":\"mesh3d\"}],\"parcoords\":[{\"line\":{\"colorbar\":{\"outlinewidth\":0,\"ticks\":\"\"}},\"type\":\"parcoords\"}],\"pie\":[{\"automargin\":true,\"type\":\"pie\"}],\"scatter\":[{\"marker\":{\"colorbar\":{\"outlinewidth\":0,\"ticks\":\"\"}},\"type\":\"scatter\"}],\"scatter3d\":[{\"line\":{\"colorbar\":{\"outlinewidth\":0,\"ticks\":\"\"}},\"marker\":{\"colorbar\":{\"outlinewidth\":0,\"ticks\":\"\"}},\"type\":\"scatter3d\"}],\"scattercarpet\":[{\"marker\":{\"colorbar\":{\"outlinewidth\":0,\"ticks\":\"\"}},\"type\":\"scattercarpet\"}],\"scattergeo\":[{\"marker\":{\"colorbar\":{\"outlinewidth\":0,\"ticks\":\"\"}},\"type\":\"scattergeo\"}],\"scattergl\":[{\"marker\":{\"colorbar\":{\"outlinewidth\":0,\"ticks\":\"\"}},\"type\":\"scattergl\"}],\"scattermapbox\":[{\"marker\":{\"colorbar\":{\"outlinewidth\":0,\"ticks\":\"\"}},\"type\":\"scattermapbox\"}],\"scatterpolar\":[{\"marker\":{\"colorbar\":{\"outlinewidth\":0,\"ticks\":\"\"}},\"type\":\"scatterpolar\"}],\"scatterpolargl\":[{\"marker\":{\"colorbar\":{\"outlinewidth\":0,\"ticks\":\"\"}},\"type\":\"scatterpolargl\"}],\"scatterternary\":[{\"marker\":{\"colorbar\":{\"outlinewidth\":0,\"ticks\":\"\"}},\"type\":\"scatterternary\"}],\"surface\":[{\"colorbar\":{\"outlinewidth\":0,\"ticks\":\"\"},\"colorscale\":[[0.0,\"#0d0887\"],[0.1111111111111111,\"#46039f\"],[0.2222222222222222,\"#7201a8\"],[0.3333333333333333,\"#9c179e\"],[0.4444444444444444,\"#bd3786\"],[0.5555555555555556,\"#d8576b\"],[0.6666666666666666,\"#ed7953\"],[0.7777777777777778,\"#fb9f3a\"],[0.8888888888888888,\"#fdca26\"],[1.0,\"#f0f921\"]],\"type\":\"surface\"}],\"table\":[{\"cells\":{\"fill\":{\"color\":\"#EBF0F8\"},\"line\":{\"color\":\"white\"}},\"header\":{\"fill\":{\"color\":\"#C8D4E3\"},\"line\":{\"color\":\"white\"}},\"type\":\"table\"}]},\"layout\":{\"annotationdefaults\":{\"arrowcolor\":\"#2a3f5f\",\"arrowhead\":0,\"arrowwidth\":1},\"autotypenumbers\":\"strict\",\"coloraxis\":{\"colorbar\":{\"outlinewidth\":0,\"ticks\":\"\"}},\"colorscale\":{\"diverging\":[[0,\"#8e0152\"],[0.1,\"#c51b7d\"],[0.2,\"#de77ae\"],[0.3,\"#f1b6da\"],[0.4,\"#fde0ef\"],[0.5,\"#f7f7f7\"],[0.6,\"#e6f5d0\"],[0.7,\"#b8e186\"],[0.8,\"#7fbc41\"],[0.9,\"#4d9221\"],[1,\"#276419\"]],\"sequential\":[[0.0,\"#0d0887\"],[0.1111111111111111,\"#46039f\"],[0.2222222222222222,\"#7201a8\"],[0.3333333333333333,\"#9c179e\"],[0.4444444444444444,\"#bd3786\"],[0.5555555555555556,\"#d8576b\"],[0.6666666666666666,\"#ed7953\"],[0.7777777777777778,\"#fb9f3a\"],[0.8888888888888888,\"#fdca26\"],[1.0,\"#f0f921\"]],\"sequentialminus\":[[0.0,\"#0d0887\"],[0.1111111111111111,\"#46039f\"],[0.2222222222222222,\"#7201a8\"],[0.3333333333333333,\"#9c179e\"],[0.4444444444444444,\"#bd3786\"],[0.5555555555555556,\"#d8576b\"],[0.6666666666666666,\"#ed7953\"],[0.7777777777777778,\"#fb9f3a\"],[0.8888888888888888,\"#fdca26\"],[1.0,\"#f0f921\"]]},\"colorway\":[\"#636efa\",\"#EF553B\",\"#00cc96\",\"#ab63fa\",\"#FFA15A\",\"#19d3f3\",\"#FF6692\",\"#B6E880\",\"#FF97FF\",\"#FECB52\"],\"font\":{\"color\":\"#2a3f5f\"},\"geo\":{\"bgcolor\":\"white\",\"lakecolor\":\"white\",\"landcolor\":\"#E5ECF6\",\"showlakes\":true,\"showland\":true,\"subunitcolor\":\"white\"},\"hoverlabel\":{\"align\":\"left\"},\"hovermode\":\"closest\",\"mapbox\":{\"style\":\"light\"},\"paper_bgcolor\":\"white\",\"plot_bgcolor\":\"#E5ECF6\",\"polar\":{\"angularaxis\":{\"gridcolor\":\"white\",\"linecolor\":\"white\",\"ticks\":\"\"},\"bgcolor\":\"#E5ECF6\",\"radialaxis\":{\"gridcolor\":\"white\",\"linecolor\":\"white\",\"ticks\":\"\"}},\"scene\":{\"xaxis\":{\"backgroundcolor\":\"#E5ECF6\",\"gridcolor\":\"white\",\"gridwidth\":2,\"linecolor\":\"white\",\"showbackground\":true,\"ticks\":\"\",\"zerolinecolor\":\"white\"},\"yaxis\":{\"backgroundcolor\":\"#E5ECF6\",\"gridcolor\":\"white\",\"gridwidth\":2,\"linecolor\":\"white\",\"showbackground\":true,\"ticks\":\"\",\"zerolinecolor\":\"white\"},\"zaxis\":{\"backgroundcolor\":\"#E5ECF6\",\"gridcolor\":\"white\",\"gridwidth\":2,\"linecolor\":\"white\",\"showbackground\":true,\"ticks\":\"\",\"zerolinecolor\":\"white\"}},\"shapedefaults\":{\"line\":{\"color\":\"#2a3f5f\"}},\"ternary\":{\"aaxis\":{\"gridcolor\":\"white\",\"linecolor\":\"white\",\"ticks\":\"\"},\"baxis\":{\"gridcolor\":\"white\",\"linecolor\":\"white\",\"ticks\":\"\"},\"bgcolor\":\"#E5ECF6\",\"caxis\":{\"gridcolor\":\"white\",\"linecolor\":\"white\",\"ticks\":\"\"}},\"title\":{\"x\":0.05},\"xaxis\":{\"automargin\":true,\"gridcolor\":\"white\",\"linecolor\":\"white\",\"ticks\":\"\",\"title\":{\"standoff\":15},\"zerolinecolor\":\"white\",\"zerolinewidth\":2},\"yaxis\":{\"automargin\":true,\"gridcolor\":\"white\",\"linecolor\":\"white\",\"ticks\":\"\",\"title\":{\"standoff\":15},\"zerolinecolor\":\"white\",\"zerolinewidth\":2}}}},                        {\"responsive\": true}                    ).then(function(){\n",
       "                            \n",
       "var gd = document.getElementById('6007f034-783e-4362-a3f6-bcc8df1140ee');\n",
       "var x = new MutationObserver(function (mutations, observer) {{\n",
       "        var display = window.getComputedStyle(gd).display;\n",
       "        if (!display || display === 'none') {{\n",
       "            console.log([gd, 'removed!']);\n",
       "            Plotly.purge(gd);\n",
       "            observer.disconnect();\n",
       "        }}\n",
       "}});\n",
       "\n",
       "// Listen for the removal of the full notebook cells\n",
       "var notebookContainer = gd.closest('#notebook-container');\n",
       "if (notebookContainer) {{\n",
       "    x.observe(notebookContainer, {childList: true});\n",
       "}}\n",
       "\n",
       "// Listen for the clearing of the current output cell\n",
       "var outputEl = gd.closest('.output');\n",
       "if (outputEl) {{\n",
       "    x.observe(outputEl, {childList: true});\n",
       "}}\n",
       "\n",
       "                        })                };                });            </script>        </div>"
      ]
     },
     "metadata": {},
     "output_type": "display_data"
    }
   ],
   "source": [
    "def transform_output(record):\n",
    "    recon_status = tree.get(record.get(\"parentEventId\"))\n",
    "    recon_rule = tree.get(recon_status.get(\"parentEventId\"))\n",
    "    recon_folder = tree.get(recon_rule.get(\"parentEventId\"))\n",
    "    new_obj = {\n",
    "        \"time\": record.get(\"start_time\"),\n",
    "        \"name\": f\"{recon_folder.get('eventName')} -> {recon_rule.get('eventName')} -> {recon_status.get('eventName')}\",\n",
    "        \"status\": record.get(\"status\")\n",
    "    }\n",
    "    return new_obj\n",
    "\n",
    "data = events\\\n",
    "        .map(extract_basic) \\\n",
    "        .filter(lambda record: record.get(\"super_type\") == \"Recon Event\") \\\n",
    "        .map(transform_output)\n",
    "\n",
    "df = Utils.aggregate_groups_by_intervals(data, \"time\", \"name\", intervals=\"10s\", pivot=\"name\")\n",
    "\n",
    "Utils.create_tick_diagram(df)  # The plot may not be shown if you have not restarted the notebook."
   ]
  },
  {
   "cell_type": "markdown",
   "id": "fe9fcd75",
   "metadata": {},
   "source": [
    "## What do we want to show here?\n",
    "Work with messages"
   ]
  },
  {
   "cell_type": "code",
   "execution_count": 65,
   "id": "31f1897d",
   "metadata": {},
   "outputs": [],
   "source": [
    "tags_name = [\"OrdType\", \"Side\", \"SecurityID\"]\n",
    "\n",
    "def exctract_block(record):\n",
    "    try:\n",
    "        body = record[\"body\"]\n",
    "        if body:\n",
    "            new_obj = {\n",
    "                \"status\": record.get(\"status\"),\n",
    "            }\n",
    "            tags = Utils.search_fields(body[\"fields\"], *tags_name)\n",
    "            for tag_name in tags:\n",
    "                tag = tags[tag_name]\n",
    "                \n",
    "                new_obj.update({\n",
    "                    tag_name: tag[0].get(\"simpleValue\"),\n",
    "                })\n",
    "            return new_obj\n",
    "    except:\n",
    "        return None\n",
    "\n",
    "streams = set()\n",
    "for record in events_tree.events.values():\n",
    "    messages = record.get(\"attachedMessageIds\")\n",
    "    for msg in messages:\n",
    "        streams.add(msg.split(\":\")[0])\n",
    "\n",
    "messages: Data = data_source.get_messages_from_data_provider(\n",
    "    startTimestamp=START_TIME,\n",
    "    endTimestamp=END_TIME,\n",
    "    stream=list(streams),\n",
    ")"
   ]
  },
  {
   "cell_type": "code",
   "execution_count": 64,
   "id": "12d9ea18",
   "metadata": {
    "scrolled": false
   },
   "outputs": [
    {
     "data": {
      "text/html": [
       "<th style=\"text-align: center\"><td style=\"vertical-align:top\"><h2><h2><table style=\"display:inline\" border=\"1\" class=\"dataframe\">\n",
       "  <thead>\n",
       "    <tr style=\"text-align: right;\">\n",
       "      <th></th>\n",
       "      <th>status</th>\n",
       "      <th>count</th>\n",
       "    </tr>\n",
       "  </thead>\n",
       "  <tbody>\n",
       "    <tr>\n",
       "      <th>0</th>\n",
       "      <td>Unknown</td>\n",
       "      <td>279.0</td>\n",
       "    </tr>\n",
       "    <tr>\n",
       "      <th>1</th>\n",
       "      <td>Total</td>\n",
       "      <td>279.0</td>\n",
       "    </tr>\n",
       "  </tbody>\n",
       "</table style=\"display:inline\"></td><th><th style=\"text-align: center\"><td style=\"vertical-align:top\"><h2><h2><table style=\"display:inline\" border=\"1\" class=\"dataframe\">\n",
       "  <thead>\n",
       "    <tr style=\"text-align: right;\">\n",
       "      <th></th>\n",
       "      <th>OrdType</th>\n",
       "      <th>count</th>\n",
       "    </tr>\n",
       "  </thead>\n",
       "  <tbody>\n",
       "    <tr>\n",
       "      <th>0</th>\n",
       "      <td>2</td>\n",
       "      <td>87.0</td>\n",
       "    </tr>\n",
       "    <tr>\n",
       "      <th>1</th>\n",
       "      <td>None</td>\n",
       "      <td>192.0</td>\n",
       "    </tr>\n",
       "    <tr>\n",
       "      <th>2</th>\n",
       "      <td>Total</td>\n",
       "      <td>279.0</td>\n",
       "    </tr>\n",
       "  </tbody>\n",
       "</table style=\"display:inline\"></td><th><th style=\"text-align: center\"><td style=\"vertical-align:top\"><h2><h2><table style=\"display:inline\" border=\"1\" class=\"dataframe\">\n",
       "  <thead>\n",
       "    <tr style=\"text-align: right;\">\n",
       "      <th></th>\n",
       "      <th>Side</th>\n",
       "      <th>count</th>\n",
       "    </tr>\n",
       "  </thead>\n",
       "  <tbody>\n",
       "    <tr>\n",
       "      <th>0</th>\n",
       "      <td>1</td>\n",
       "      <td>51.0</td>\n",
       "    </tr>\n",
       "    <tr>\n",
       "      <th>1</th>\n",
       "      <td>2</td>\n",
       "      <td>36.0</td>\n",
       "    </tr>\n",
       "    <tr>\n",
       "      <th>2</th>\n",
       "      <td>None</td>\n",
       "      <td>192.0</td>\n",
       "    </tr>\n",
       "    <tr>\n",
       "      <th>3</th>\n",
       "      <td>Total</td>\n",
       "      <td>279.0</td>\n",
       "    </tr>\n",
       "  </tbody>\n",
       "</table style=\"display:inline\"></td><th><th style=\"text-align: center\"><td style=\"vertical-align:top\"><h2><h2><table style=\"display:inline\" border=\"1\" class=\"dataframe\">\n",
       "  <thead>\n",
       "    <tr style=\"text-align: right;\">\n",
       "      <th></th>\n",
       "      <th>SecurityID</th>\n",
       "      <th>count</th>\n",
       "    </tr>\n",
       "  </thead>\n",
       "  <tbody>\n",
       "    <tr>\n",
       "      <th>0</th>\n",
       "      <td>INSTR1</td>\n",
       "      <td>17.0</td>\n",
       "    </tr>\n",
       "    <tr>\n",
       "      <th>1</th>\n",
       "      <td>INSTR2</td>\n",
       "      <td>17.0</td>\n",
       "    </tr>\n",
       "    <tr>\n",
       "      <th>2</th>\n",
       "      <td>INSTR3</td>\n",
       "      <td>17.0</td>\n",
       "    </tr>\n",
       "    <tr>\n",
       "      <th>3</th>\n",
       "      <td>INSTR4</td>\n",
       "      <td>18.0</td>\n",
       "    </tr>\n",
       "    <tr>\n",
       "      <th>4</th>\n",
       "      <td>INSTR5</td>\n",
       "      <td>17.0</td>\n",
       "    </tr>\n",
       "    <tr>\n",
       "      <th>5</th>\n",
       "      <td>INSTR6</td>\n",
       "      <td>1.0</td>\n",
       "    </tr>\n",
       "    <tr>\n",
       "      <th>6</th>\n",
       "      <td>None</td>\n",
       "      <td>192.0</td>\n",
       "    </tr>\n",
       "    <tr>\n",
       "      <th>7</th>\n",
       "      <td>Total</td>\n",
       "      <td>279.0</td>\n",
       "    </tr>\n",
       "  </tbody>\n",
       "</table style=\"display:inline\"></td><th>"
      ]
     },
     "metadata": {},
     "output_type": "display_data"
    }
   ],
   "source": [
    "compute = []\n",
    "for record in messages.map(exctract_block):\n",
    "    for tag_name in tags_name:\n",
    "        new_obj = {\n",
    "            \"status\": 'Unknown'\n",
    "        }\n",
    "        if isinstance(record.get(tag_name), list):\n",
    "            for tag in record.get(tag_name):\n",
    "                new_obj[tag_name] = tag\n",
    "                compute.append(new_obj)\n",
    "        else:\n",
    "            new_obj.update({tag_name: record.get(tag_name)})\n",
    "            compute.append(new_obj)\n",
    "\n",
    "Utils.aggregate_several_group(compute)"
   ]
  },
  {
   "cell_type": "markdown",
   "id": "d4156644",
   "metadata": {},
   "source": [
    "## [4] Table - Types of messages and their number processed by recon "
   ]
  },
  {
   "cell_type": "code",
   "execution_count": 26,
   "id": "4cb4406b",
   "metadata": {
    "scrolled": true
   },
   "outputs": [
    {
     "data": {
      "text/html": [
       "<div>\n",
       "<style scoped>\n",
       "    .dataframe tbody tr th:only-of-type {\n",
       "        vertical-align: middle;\n",
       "    }\n",
       "\n",
       "    .dataframe tbody tr th {\n",
       "        vertical-align: top;\n",
       "    }\n",
       "\n",
       "    .dataframe thead th {\n",
       "        text-align: right;\n",
       "    }\n",
       "</style>\n",
       "<table border=\"1\" class=\"dataframe\">\n",
       "  <thead>\n",
       "    <tr style=\"text-align: right;\">\n",
       "      <th></th>\n",
       "      <th>MsgType</th>\n",
       "      <th>count</th>\n",
       "    </tr>\n",
       "  </thead>\n",
       "  <tbody>\n",
       "    <tr>\n",
       "      <th>0</th>\n",
       "      <td>ExecutionReport</td>\n",
       "      <td>18</td>\n",
       "    </tr>\n",
       "    <tr>\n",
       "      <th>1</th>\n",
       "      <td>NewOrderSingle</td>\n",
       "      <td>16</td>\n",
       "    </tr>\n",
       "  </tbody>\n",
       "</table>\n",
       "</div>"
      ],
      "text/plain": [
       "           MsgType  count\n",
       "0  ExecutionReport     18\n",
       "1   NewOrderSingle     16"
      ]
     },
     "execution_count": 26,
     "metadata": {},
     "output_type": "execute_result"
    }
   ],
   "source": [
    "def is_recon_ancestor(record):\n",
    "    parent_id = record.get(\"parentEventId\")\n",
    "    if parent_id is not None:\n",
    "        ancestor = events_tree.get_ancestor_by_super_type(record, \"Recon Folder\", get_super_type)\n",
    "        if ancestor:\n",
    "            return True\n",
    "    return False\n",
    "\n",
    "def is_match_or_match_failed(record):\n",
    "    ancestor = events_tree.get_ancestor_by_name(record, \"No match\")\n",
    "    if ancestor and not ancestor.get(\"successful\"):\n",
    "        return True\n",
    "    ancestor = events_tree.get_ancestor_by_name(record, \"Matched passed\")\n",
    "    if ancestor:\n",
    "        return True\n",
    "    return False\n",
    "\n",
    "def exctract_block(record):\n",
    "    messages_id = record.get(\"messages_id\")\n",
    "    \n",
    "    if not messages_id:\n",
    "        return None\n",
    "        \n",
    "    messages = data_source.find_messages_by_id_from_data_provider(messages_id)\n",
    "    if isinstance(messages, dict):\n",
    "        messages = [messages]\n",
    "    output = [{\"MsgType\": message.get(\"body\", {}).get(\"metadata\", {}).get(\"messageType\")} for message in messages]\n",
    "    \n",
    "    return output\n",
    "\n",
    "events_with_attached_msgs = data_source.get_events_from_data_provider(\n",
    "    startTimestamp=START_TIME,\n",
    "    endTimestamp=END_TIME,\n",
    "    metadataOnly=False,\n",
    "    attachedMessages=True,\n",
    ")\n",
    "\n",
    "data = events_with_attached_msgs\\\n",
    "        .map(extract_basic)\\\n",
    "        .filter(is_recon_ancestor)\\\n",
    "        .filter(is_match_or_match_failed)\\\n",
    "        .map(exctract_block)\n",
    "\n",
    "df = DataFrame(data)\n",
    "df\n",
    "df.groupby(\"MsgType\").size().reset_index(name=\"count\")"
   ]
  },
  {
   "cell_type": "code",
   "execution_count": null,
   "id": "a2ffce0d",
   "metadata": {},
   "outputs": [],
   "source": []
  }
 ],
 "metadata": {
  "kernelspec": {
   "display_name": "Python 3",
   "language": "python",
   "name": "python3"
  },
  "language_info": {
   "codemirror_mode": {
    "name": "ipython",
    "version": 3
   },
   "file_extension": ".py",
   "mimetype": "text/x-python",
   "name": "python",
   "nbconvert_exporter": "python",
   "pygments_lexer": "ipython3",
   "version": "3.6.15"
  }
 },
 "nbformat": 4,
 "nbformat_minor": 5
}
